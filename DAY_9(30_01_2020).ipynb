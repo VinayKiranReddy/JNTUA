{
  "nbformat": 4,
  "nbformat_minor": 0,
  "metadata": {
    "colab": {
      "name": "DAY 9(30-01-2020)",
      "provenance": [],
      "collapsed_sections": [],
      "authorship_tag": "ABX9TyN9+kxWws+TWyBzo0SNH32z",
      "include_colab_link": true
    },
    "kernelspec": {
      "name": "python3",
      "display_name": "Python 3"
    }
  },
  "cells": [
    {
      "cell_type": "markdown",
      "metadata": {
        "id": "view-in-github",
        "colab_type": "text"
      },
      "source": [
        "<a href=\"https://colab.research.google.com/github/VinayKiranReddy/JNTUA/blob/master/DAY_9(30_01_2020).ipynb\" target=\"_parent\"><img src=\"https://colab.research.google.com/assets/colab-badge.svg\" alt=\"Open In Colab\"/></a>"
      ]
    },
    {
      "cell_type": "code",
      "metadata": {
        "id": "1KCUKqlo8HwP",
        "colab_type": "code",
        "colab": {}
      },
      "source": [
        ""
      ],
      "execution_count": 0,
      "outputs": []
    },
    {
      "cell_type": "markdown",
      "metadata": {
        "id": "IxYrAWV199ta",
        "colab_type": "text"
      },
      "source": [
        ""
      ]
    },
    {
      "cell_type": "markdown",
      "metadata": {
        "id": "YsHe2SMt99wj",
        "colab_type": "text"
      },
      "source": [
        "*** Adding links to markdown***\n",
        "\n",
        "[site](https://sites.google.com/s/13DEPJzuyfiK3QiT198eGtl5EMnbKiltr/p/18eHkCNV6PZHxzIuIcYZ_E3-a1akPmIaG/edit)\n",
        "### Inserting image\n",
        "![text](data:image/jpeg;base64,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)\n",
        "\n"
      ]
    },
    {
      "cell_type": "code",
      "metadata": {
        "id": "0KK5PLLVIfpJ",
        "colab_type": "code",
        "colab": {
          "base_uri": "https://localhost:8080/",
          "height": 34
        },
        "outputId": "9068e317-6e32-43b0-94b5-8505cc2d4a89"
      },
      "source": [
        "print(\"hello, jntua\",\"|||\" ,\"Chemical\",\"|||\",\"Cse\" ,\"|||\",\"Mca\")"
      ],
      "execution_count": 3,
      "outputs": [
        {
          "output_type": "stream",
          "text": [
            "hello, jntua ||| Chemical ||| Cse ||| Mca\n"
          ],
          "name": "stdout"
        }
      ]
    },
    {
      "cell_type": "markdown",
      "metadata": {
        "id": "IGuUTp_3JGts",
        "colab_type": "text"
      },
      "source": [
        ""
      ]
    },
    {
      "cell_type": "code",
      "metadata": {
        "id": "YgTzp-ifDF-z",
        "colab_type": "code",
        "colab": {}
      },
      "source": [
        ""
      ],
      "execution_count": 0,
      "outputs": []
    },
    {
      "cell_type": "code",
      "metadata": {
        "id": "SK3_h3siDWOP",
        "colab_type": "code",
        "colab": {
          "base_uri": "https://localhost:8080/",
          "height": 34
        },
        "outputId": "3b0090d7-157a-499f-93c9-ca12823a6627"
      },
      "source": [
        "print(\"hello!\")"
      ],
      "execution_count": 2,
      "outputs": [
        {
          "output_type": "stream",
          "text": [
            "hello!\n"
          ],
          "name": "stdout"
        }
      ]
    },
    {
      "cell_type": "markdown",
      "metadata": {
        "id": "EXKh3xPtJJM7",
        "colab_type": "text"
      },
      "source": [
        "Assignment\n"
      ]
    },
    {
      "cell_type": "code",
      "metadata": {
        "id": "kLEvCxLJJOB5",
        "colab_type": "code",
        "colab": {
          "base_uri": "https://localhost:8080/",
          "height": 51
        },
        "outputId": "ae4bd6e2-0999-42d0-9ea0-cf22e63cd455"
      },
      "source": [
        "n1 = 100 # single variable assignment \n",
        "n1\n",
        "a = b = c = 10 # multi variable assignment of same value\n",
        "print(a,b,c)\n",
        "a1,b1,c1 = 100,200,300 # multiple variable assignment with different values\n",
        "print(a1,b1,c1)"
      ],
      "execution_count": 6,
      "outputs": [
        {
          "output_type": "stream",
          "text": [
            "10 10 10\n",
            "100 200 300\n"
          ],
          "name": "stdout"
        }
      ]
    },
    {
      "cell_type": "markdown",
      "metadata": {
        "id": "An9j1ZsrKtZx",
        "colab_type": "text"
      },
      "source": [
        "# Data types and conversions\n",
        "\n",
        "\n",
        "*   int\n",
        "*  float\n",
        "\n",
        "\n",
        "\n",
        "\n",
        "\n",
        "\n",
        "\n",
        "\n",
        "\n",
        "\n",
        "* string\n",
        "\n",
        "\n",
        "\n",
        "\n",
        "\n",
        "\n",
        "\n",
        "\n",
        "\n"
      ]
    },
    {
      "cell_type": "code",
      "metadata": {
        "id": "gCg8BVC5LZNM",
        "colab_type": "code",
        "colab": {
          "base_uri": "https://localhost:8080/",
          "height": 34
        },
        "outputId": "6bfcdd5c-53ff-4f2c-bf1f-0d01ac3a35b2"
      },
      "source": [
        "a = 100\n",
        "s1 = 10.2\n",
        "s2 = \"python\"\n",
        "print(type(a),type(s1),type(s2))"
      ],
      "execution_count": 7,
      "outputs": [
        {
          "output_type": "stream",
          "text": [
            "<class 'int'> <class 'float'> <class 'str'>\n"
          ],
          "name": "stdout"
        }
      ]
    },
    {
      "cell_type": "code",
      "metadata": {
        "id": "Z1RFi8xkMH3Z",
        "colab_type": "code",
        "colab": {
          "base_uri": "https://localhost:8080/",
          "height": 68
        },
        "outputId": "fc3f0521-2cca-427e-c717-7fc0d7c96f48"
      },
      "source": [
        "i = 100\n",
        "print(type(i))\n",
        "s1 = str(i)\n",
        "print(type(s1))\n",
        "f1 = float(i)\n",
        "print(type(f1))"
      ],
      "execution_count": 8,
      "outputs": [
        {
          "output_type": "stream",
          "text": [
            "<class 'int'>\n",
            "<class 'str'>\n",
            "<class 'float'>\n"
          ],
          "name": "stdout"
        }
      ]
    },
    {
      "cell_type": "code",
      "metadata": {
        "id": "X9tUgLOtNL5F",
        "colab_type": "code",
        "colab": {
          "base_uri": "https://localhost:8080/",
          "height": 34
        },
        "outputId": "cf3c4d23-7d40-44ab-aa8e-62a3a339133d"
      },
      "source": [
        "# length\n",
        "a = 56\n",
        "print(len(str(a)))"
      ],
      "execution_count": 14,
      "outputs": [
        {
          "output_type": "stream",
          "text": [
            "2\n"
          ],
          "name": "stdout"
        }
      ]
    },
    {
      "cell_type": "markdown",
      "metadata": {
        "id": "tHR6ZXVNN0Gv",
        "colab_type": "text"
      },
      "source": [
        "Reading input from user---input function"
      ]
    },
    {
      "cell_type": "code",
      "metadata": {
        "id": "AHkbK2y1N57l",
        "colab_type": "code",
        "colab": {
          "base_uri": "https://localhost:8080/",
          "height": 68
        },
        "outputId": "56cafb05-d373-4e61-b2b9-a95cf289e0fd"
      },
      "source": [
        "a = input(\"Enter ur name\")\n",
        "print(a)\n",
        "print(type(a))"
      ],
      "execution_count": 16,
      "outputs": [
        {
          "output_type": "stream",
          "text": [
            "Enter ur namePANKAJ\n",
            "PANKAJ\n",
            "<class 'str'>\n"
          ],
          "name": "stdout"
        }
      ]
    },
    {
      "cell_type": "code",
      "metadata": {
        "id": "SNlLDpBvOhIx",
        "colab_type": "code",
        "colab": {
          "base_uri": "https://localhost:8080/",
          "height": 68
        },
        "outputId": "10faccb2-b85e-405f-a321-0fe4732b65db"
      },
      "source": [
        "B = int(input('Enter ur age :'))\n",
        "print(B)\n",
        "print(type(B))"
      ],
      "execution_count": 21,
      "outputs": [
        {
          "output_type": "stream",
          "text": [
            "Enter ur age :20\n",
            "20\n",
            "<class 'int'>\n"
          ],
          "name": "stdout"
        }
      ]
    },
    {
      "cell_type": "markdown",
      "metadata": {
        "id": "FAQwvcoBPZww",
        "colab_type": "text"
      },
      "source": [
        "# Operators\n",
        "       Operators is a symbol that is used to perform specific kind of operations."
      ]
    },
    {
      "cell_type": "code",
      "metadata": {
        "id": "NfcOKL0MOfSC",
        "colab_type": "code",
        "colab": {}
      },
      "source": [
        ""
      ],
      "execution_count": 0,
      "outputs": []
    },
    {
      "cell_type": "markdown",
      "metadata": {
        "id": "fgCN0SsFPq3i",
        "colab_type": "text"
      },
      "source": [
        "# Arithmetic Operators\n",
        "\n",
        "\n",
        "*   +\n",
        "*   -\n",
        "\n",
        "*   *\n",
        "*   /\n",
        "\n",
        "*   %\n",
        "*   //\n",
        "\n",
        "*   **\n",
        "\n",
        "\n",
        "\n",
        "\n",
        "\n",
        "\n",
        "\n"
      ]
    },
    {
      "cell_type": "code",
      "metadata": {
        "id": "M-ZJ3LsMP8VZ",
        "colab_type": "code",
        "colab": {
          "base_uri": "https://localhost:8080/",
          "height": 136
        },
        "outputId": "42a7dd28-b818-4511-a037-774997824083"
      },
      "source": [
        "a = 1234\n",
        "print(a+10)\n",
        "print(a-10)\n",
        "print(a*10)\n",
        "print(a/10)\n",
        "print(a%10)\n",
        "print(a//10)\n",
        "print(a**10)"
      ],
      "execution_count": 25,
      "outputs": [
        {
          "output_type": "stream",
          "text": [
            "1244\n",
            "1224\n",
            "12340\n",
            "123.4\n",
            "4\n",
            "123\n",
            "8187505353567209228244052427776\n"
          ],
          "name": "stdout"
        }
      ]
    },
    {
      "cell_type": "markdown",
      "metadata": {
        "id": "Cizt8av5SQF3",
        "colab_type": "text"
      },
      "source": [
        "# Relational operator\n",
        "\n",
        "\n",
        "*  =\n",
        "\n",
        "*   ==\n",
        "\n",
        "*   !=\n",
        "*   <\n",
        "\n",
        "\n",
        "*   <=\n",
        "\n",
        "\n"
      ]
    },
    {
      "cell_type": "code",
      "metadata": {
        "id": "z5H6CxNPLT9V",
        "colab_type": "code",
        "colab": {
          "base_uri": "https://localhost:8080/",
          "height": 34
        },
        "outputId": "993ce182-7b06-4bd6-c645-c4d519342d6a"
      },
      "source": [
        "x = 10\n",
        "a1 = x > 15\n",
        "print(a1)"
      ],
      "execution_count": 28,
      "outputs": [
        {
          "output_type": "stream",
          "text": [
            "False\n"
          ],
          "name": "stdout"
        }
      ]
    },
    {
      "cell_type": "markdown",
      "metadata": {
        "id": "2pKKJfAsTbO8",
        "colab_type": "text"
      },
      "source": [
        "# logical operators\n",
        "\n",
        "\n",
        "*   and\n",
        "\n",
        "*   or\n",
        "*   not\n",
        "\n",
        "\n",
        "\n",
        "\n"
      ]
    },
    {
      "cell_type": "code",
      "metadata": {
        "id": "aG-s0wzmKzZZ",
        "colab_type": "code",
        "colab": {
          "base_uri": "https://localhost:8080/",
          "height": 68
        },
        "outputId": "b1a94e45-b568-40ce-99e3-c89f7f7b604b"
      },
      "source": [
        "i = 100\n",
        "a1 = (i>15) and (i<800)\n",
        "a2 = (i>15) and (i>800)\n",
        "i = not 100\n",
        "print(a1)\n",
        "print(a2)\n",
        "print(i)"
      ],
      "execution_count": 34,
      "outputs": [
        {
          "output_type": "stream",
          "text": [
            "True\n",
            "False\n",
            "False\n"
          ],
          "name": "stdout"
        }
      ]
    },
    {
      "cell_type": "markdown",
      "metadata": {
        "id": "Xz8aBW_tU5Q4",
        "colab_type": "text"
      },
      "source": [
        "# Control flow statements\n",
        "\n",
        "\n",
        "1.   conditional statements\n",
        "2.   looping statements\n",
        "\n"
      ]
    },
    {
      "cell_type": "code",
      "metadata": {
        "id": "tKnTxxMNVhJr",
        "colab_type": "code",
        "colab": {}
      },
      "source": [
        ""
      ],
      "execution_count": 0,
      "outputs": []
    },
    {
      "cell_type": "markdown",
      "metadata": {
        "id": "mz1v2_dPVhWO",
        "colab_type": "text"
      },
      "source": [
        "# if-else statement\n",
        "  SYNTAX\n",
        "\n",
        "     if Boolean_condition\n",
        "     statements\n",
        "     else:\n",
        "     statements"
      ]
    },
    {
      "cell_type": "code",
      "metadata": {
        "id": "36SQcAm-VydD",
        "colab_type": "code",
        "colab": {
          "base_uri": "https://localhost:8080/",
          "height": 51
        },
        "outputId": "cf772476-22e1-41d8-81ae-bb965c44e109"
      },
      "source": [
        "# To check given no. is even or odd\n",
        "n = int (input(\"enter a number\"))\n",
        "if n%2 == 0:\n",
        "  print(n,\"is even number\")\n",
        "else:\n",
        "    print(n,\"is odd number\")"
      ],
      "execution_count": 36,
      "outputs": [
        {
          "output_type": "stream",
          "text": [
            "enter a number73\n",
            "73 is odd number\n"
          ],
          "name": "stdout"
        }
      ]
    },
    {
      "cell_type": "code",
      "metadata": {
        "id": "daQSmFg1XPe5",
        "colab_type": "code",
        "colab": {
          "base_uri": "https://localhost:8080/",
          "height": 51
        },
        "outputId": "dc493713-c228-4294-eac6-862f73e792ff"
      },
      "source": [
        "# to check given number is a multiple of 3  & 5\n",
        "n = int (input(\"enter a number\"))\n",
        "if n%15 ==0:\n",
        "  print(n,\"yes\")\n",
        "else:\n",
        "   print(n,\"no\")\n"
      ],
      "execution_count": 37,
      "outputs": [
        {
          "output_type": "stream",
          "text": [
            "enter a number10\n",
            "10 no\n"
          ],
          "name": "stdout"
        }
      ]
    },
    {
      "cell_type": "code",
      "metadata": {
        "id": "E67suqkNZyjc",
        "colab_type": "code",
        "colab": {
          "base_uri": "https://localhost:8080/",
          "height": 51
        },
        "outputId": "b726b9e8-2dea-4dee-d9f1-bec9ef79e26a"
      },
      "source": [
        "# given number is positive , negative or 0\n",
        "n = int(input(\"enter a num\"))\n",
        "if n==0:\n",
        "  print(n,\"zero\")\n",
        "elif n>0:\n",
        "  print(n,\"positive\")\n",
        "else:\n",
        "  print(n,\"negative\")\n"
      ],
      "execution_count": 45,
      "outputs": [
        {
          "output_type": "stream",
          "text": [
            "enter a num73\n",
            "73 positive\n"
          ],
          "name": "stdout"
        }
      ]
    },
    {
      "cell_type": "markdown",
      "metadata": {
        "id": "jAff1ZqYbl4G",
        "colab_type": "text"
      },
      "source": [
        ""
      ]
    },
    {
      "cell_type": "code",
      "metadata": {
        "id": "f0RamLAtbmd8",
        "colab_type": "code",
        "colab": {
          "base_uri": "https://localhost:8080/",
          "height": 34
        },
        "outputId": "c2697653-04aa-4622-9d31-862a1129a4a8"
      },
      "source": [
        "# largest of 3. numbers\n",
        "a = 20\n",
        "b = 33\n",
        "c = 73\n",
        "if b > a & b>c:\n",
        "  print(\"b is greater than a\")\n",
        "elif c > a :\n",
        " print(\"c is greater\")\n",
        "else:\n",
        "  print(\"a is greater\")\n"
      ],
      "execution_count": 50,
      "outputs": [
        {
          "output_type": "stream",
          "text": [
            "c is greater\n"
          ],
          "name": "stdout"
        }
      ]
    }
  ]
}