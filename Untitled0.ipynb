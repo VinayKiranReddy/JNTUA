{
  "nbformat": 4,
  "nbformat_minor": 0,
  "metadata": {
    "colab": {
      "name": "Untitled0.ipynb",
      "provenance": [],
      "authorship_tag": "ABX9TyMA0VmSUCjUogfYLulCC8lx",
      "include_colab_link": true
    },
    "kernelspec": {
      "name": "python3",
      "display_name": "Python 3"
    }
  },
  "cells": [
    {
      "cell_type": "markdown",
      "metadata": {
        "id": "view-in-github",
        "colab_type": "text"
      },
      "source": [
        "<a href=\"https://colab.research.google.com/github/VinayKiranReddy/JNTUA/blob/master/Untitled0.ipynb\" target=\"_parent\"><img src=\"https://colab.research.google.com/assets/colab-badge.svg\" alt=\"Open In Colab\"/></a>"
      ]
    },
    {
      "cell_type": "code",
      "metadata": {
        "id": "CKZ-dBR_g4jS",
        "colab_type": "code",
        "colab": {
          "base_uri": "https://localhost:8080/",
          "height": 34
        },
        "outputId": "9de8404c-4809-4838-ac51-9767ff7a531f"
      },
      "source": [
        "i = [1,2,3,4,5]\n",
        "#1.append(56) \n",
        "#1.insert(2,56) \n",
        "#1.count(5) \n",
        "#1.index(4)\n",
        "#1.sort()\n",
        "i.pop(3) \n",
        "print(1)              "
      ],
      "execution_count": 4,
      "outputs": [
        {
          "output_type": "stream",
          "text": [
            "[1, 2, 3, 5]\n"
          ],
          "name": "stdout"
        }
      ]
    },
    {
      "cell_type": "markdown",
      "metadata": {
        "id": "VeFrNaxyjiS0",
        "colab_type": "text"
      },
      "source": [
        "# using function return large number from the 1\n",
        "def largenumber(li):\n",
        "li.sort()\n",
        "return li[-1]\n",
        "def genericlarge(li,n):\n",
        "li = [13,2,43,74,78,12,35]\n",
        "print(largenumber(li))\n",
        "print(genericlarge(li,3))"
      ]
    },
    {
      "cell_type": "code",
      "metadata": {
        "id": "Fz4hdLUOmeha",
        "colab_type": "code",
        "colab": {
          "base_uri": "https://localhost:8080/",
          "height": 129
        },
        "outputId": "11d32218-d330-4fd5-99c0-2d7e134b4765"
      },
      "source": [
        "# using function return large number from the 1\n",
        "def largenumber(li):\n",
        "  li.sort()\n",
        "  return li[-1]\n",
        " def genericlarge(li,n):\n",
        "  li = [13,2,43,74,78,12,35]\n",
        "  return li[-n]\n",
        "  print(largenumber(li))\n",
        "  print(genericlarge(li,3))"
      ],
      "execution_count": 20,
      "outputs": [
        {
          "output_type": "error",
          "ename": "IndentationError",
          "evalue": "ignored",
          "traceback": [
            "\u001b[0;36m  File \u001b[0;32m\"<ipython-input-20-e09353437555>\"\u001b[0;36m, line \u001b[0;32m4\u001b[0m\n\u001b[0;31m    def genericlarge(li,n):\u001b[0m\n\u001b[0m                           ^\u001b[0m\n\u001b[0;31mIndentationError\u001b[0m\u001b[0;31m:\u001b[0m unindent does not match any outer indentation level\n"
          ]
        }
      ]
    },
    {
      "cell_type": "markdown",
      "metadata": {
        "id": "LHW16tdznbD4",
        "colab_type": "text"
      },
      "source": [
        ""
      ]
    },
    {
      "cell_type": "code",
      "metadata": {
        "id": "CEerGJELmQE0",
        "colab_type": "code",
        "colab": {}
      },
      "source": [
        ""
      ],
      "execution_count": 0,
      "outputs": []
    },
    {
      "cell_type": "markdown",
      "metadata": {
        "id": "kPtf89t3nmDC",
        "colab_type": "text"
      },
      "source": [
        "# Tuples\n",
        "- paranthesis"
      ]
    }
  ]
}