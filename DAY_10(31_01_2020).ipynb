{
  "nbformat": 4,
  "nbformat_minor": 0,
  "metadata": {
    "colab": {
      "name": "DAY-10(31-01-2020)",
      "provenance": [],
      "authorship_tag": "ABX9TyN7o3M6yuYFM+wfUSTrSDbs",
      "include_colab_link": true
    },
    "kernelspec": {
      "name": "python3",
      "display_name": "Python 3"
    }
  },
  "cells": [
    {
      "cell_type": "markdown",
      "metadata": {
        "id": "view-in-github",
        "colab_type": "text"
      },
      "source": [
        "<a href=\"https://colab.research.google.com/github/VinayKiranReddy/JNTUA/blob/master/DAY_10(31_01_2020).ipynb\" target=\"_parent\"><img src=\"https://colab.research.google.com/assets/colab-badge.svg\" alt=\"Open In Colab\"/></a>"
      ]
    },
    {
      "cell_type": "code",
      "metadata": {
        "id": "Y9Z9pqsiuuVr",
        "colab_type": "code",
        "colab": {}
      },
      "source": [
        ""
      ],
      "execution_count": 0,
      "outputs": []
    },
    {
      "cell_type": "markdown",
      "metadata": {
        "id": "QSaGeaoGxqgm",
        "colab_type": "text"
      },
      "source": [
        "# Loops\n",
        "\n",
        "\n",
        "*  WHILE LOOP \n",
        "*  FOR LOOP\n",
        "\n"
      ]
    },
    {
      "cell_type": "code",
      "metadata": {
        "id": "gww3YYBoxzHg",
        "colab_type": "code",
        "colab": {
          "base_uri": "https://localhost:8080/",
          "height": 51
        },
        "outputId": "80a83cc2-120f-47d6-d54a-11a9e9453533"
      },
      "source": [
        "# Print Numbers from numbers 1 to n\n",
        "# Input 10\n",
        "# Output : 1,2,3,4,5,6,7,8,9,10\n",
        "n = int(input(\"enter a number\"))\n",
        "i = 1\n",
        "while i <=n:\n",
        "  print(i,end = \" \")\n",
        "  i = i+1"
      ],
      "execution_count": 5,
      "outputs": [
        {
          "output_type": "stream",
          "text": [
            "enter a number5\n",
            "1 2 3 4 5 "
          ],
          "name": "stdout"
        }
      ]
    },
    {
      "cell_type": "code",
      "metadata": {
        "id": "ypuGdRc-ziEn",
        "colab_type": "code",
        "colab": {
          "base_uri": "https://localhost:8080/",
          "height": 136
        },
        "outputId": "4b9e4f2c-a09e-4482-f270-56d7f7a1e561"
      },
      "source": [
        "n = (int(input(\"entera num\")))\n",
        "sum = 0\n",
        "for i in range(1,n+1):\n",
        "   if (i%2==0):\n",
        "     print(\"{0}\".format(i))\n",
        "     sum = sum + i\n",
        "print(\"total={1}\".format(i,sum))"
      ],
      "execution_count": 21,
      "outputs": [
        {
          "output_type": "stream",
          "text": [
            "entera num10\n",
            "2\n",
            "4\n",
            "6\n",
            "8\n",
            "10\n",
            "total=30\n"
          ],
          "name": "stdout"
        }
      ]
    },
    {
      "cell_type": "code",
      "metadata": {
        "id": "WPu4hR4Y4ukN",
        "colab_type": "code",
        "colab": {
          "base_uri": "https://localhost:8080/",
          "height": 51
        },
        "outputId": "849f0d23-2a07-46c6-9b32-b571679a43cb"
      },
      "source": [
        "n = int(input(\"enter a num\"))\n",
        "i = 0\n",
        "sum = 0\n",
        "while i<=n:\n",
        "      sum=sum+i\n",
        "      i=i+2 \n",
        "print(sum)"
      ],
      "execution_count": 32,
      "outputs": [
        {
          "output_type": "stream",
          "text": [
            "enter a num10\n",
            "30\n"
          ],
          "name": "stdout"
        }
      ]
    },
    {
      "cell_type": "code",
      "metadata": {
        "id": "A8fh6KDw5bc2",
        "colab_type": "code",
        "colab": {
          "base_uri": "https://localhost:8080/",
          "height": 51
        },
        "outputId": "686daacb-354d-44aa-c3ef-eb728ba1b598"
      },
      "source": [
        "# print palindrome number\n",
        "# input 123\n",
        "# output 321\n",
        "n = int(input(\"enter a num\"))\n",
        "rem = 0\n",
        "num = 0\n",
        "while n>0:\n",
        "  rem = n%10\n",
        "  num=num*10+rem\n",
        "  n=n//10\n",
        "print(num)"
      ],
      "execution_count": 55,
      "outputs": [
        {
          "output_type": "stream",
          "text": [
            "enter a num12\n",
            "21\n"
          ],
          "name": "stdout"
        }
      ]
    },
    {
      "cell_type": "markdown",
      "metadata": {
        "id": "3WNaOunC9Tml",
        "colab_type": "text"
      },
      "source": [
        "# Functional Programming\n",
        "- simple\n",
        "- easy to understand\n",
        "- better reuseability\n",
        "- lengthy program will be divided into sub programs"
      ]
    },
    {
      "cell_type": "code",
      "metadata": {
        "id": "CMnL3gvN940i",
        "colab_type": "code",
        "colab": {}
      },
      "source": [
        "def nameofthefunction(<parameter>):\n",
        "    statements\n",
        "    return"
      ],
      "execution_count": 0,
      "outputs": []
    },
    {
      "cell_type": "code",
      "metadata": {
        "id": "B-CjpevH-kiS",
        "colab_type": "code",
        "colab": {
          "base_uri": "https://localhost:8080/",
          "height": 34
        },
        "outputId": "7023386b-a933-4320-87be-29f937a62586"
      },
      "source": [
        "# print sum of even numbers\n",
        "# input : 1234\n",
        "# output : 2 + 4 = 6\n",
        "def sumofevendigits(n):\n",
        "    s = 0\n",
        "    while n!=0:\n",
        "       r = n%10\n",
        "       if r%2==0:\n",
        "        s=s+r\n",
        "       n = n//10\n",
        "    return s\n",
        "sumofevendigits(1234)"
      ],
      "execution_count": 53,
      "outputs": [
        {
          "output_type": "execute_result",
          "data": {
            "text/plain": [
              "6"
            ]
          },
          "metadata": {
            "tags": []
          },
          "execution_count": 53
        }
      ]
    },
    {
      "cell_type": "markdown",
      "metadata": {
        "id": "7hYy-fml949i",
        "colab_type": "text"
      },
      "source": [
        ""
      ]
    },
    {
      "cell_type": "code",
      "metadata": {
        "id": "jhsd2SyDC6cE",
        "colab_type": "code",
        "colab": {}
      },
      "source": [
        "def large(n):\n",
        "  prev=0\n",
        "  next=0\n",
        "  while(n!=0):\n",
        "    prev=next\n",
        "    next=n%10\n",
        "    if(prev>next):\n",
        "       next=prev\n",
        "      n=n//10\n",
        "    return next\n",
        "  large(12345)"
      ],
      "execution_count": 0,
      "outputs": []
    },
    {
      "cell_type": "markdown",
      "metadata": {
        "id": "5UbwFiAKJKQQ",
        "colab_type": "text"
      },
      "source": [
        "for loop"
      ]
    },
    {
      "cell_type": "code",
      "metadata": {
        "id": "P_jYxKT8JOZi",
        "colab_type": "code",
        "colab": {}
      },
      "source": [
        "# syntax\n",
        "for in range(start,stop,stop)\n"
      ],
      "execution_count": 0,
      "outputs": []
    },
    {
      "cell_type": "code",
      "metadata": {
        "id": "AaXk6L_yKyoT",
        "colab_type": "code",
        "colab": {
          "base_uri": "https://localhost:8080/",
          "height": 34
        },
        "outputId": "a8e67773-75d2-405d-bbec-3ea28480dc36"
      },
      "source": [
        "def printseries(fn,ln):\n",
        "   for i in range(fn,ln+1):\n",
        "      print(i,end=\" \")\n",
        "   return\n",
        "printseries(11,25)"
      ],
      "execution_count": 62,
      "outputs": [
        {
          "output_type": "stream",
          "text": [
            "11 12 13 14 15 16 17 18 19 20 21 22 23 24 25 "
          ],
          "name": "stdout"
        }
      ]
    },
    {
      "cell_type": "code",
      "metadata": {
        "id": "HEPjU49TLeMx",
        "colab_type": "code",
        "colab": {
          "base_uri": "https://localhost:8080/",
          "height": 34
        },
        "outputId": "5c3cd210-b232-4378-8286-b313b45abea0"
      },
      "source": [
        "def printseries(fn,ln):\n",
        "    for i in range(500,521,4):\n",
        "     print(i,end=\" \")\n",
        "    return\n",
        "printseries(500,521)   "
      ],
      "execution_count": 71,
      "outputs": [
        {
          "output_type": "stream",
          "text": [
            "500 504 508 512 516 520 "
          ],
          "name": "stdout"
        }
      ]
    },
    {
      "cell_type": "markdown",
      "metadata": {
        "id": "HkxqehlyND3E",
        "colab_type": "text"
      },
      "source": [
        "# List\n",
        "- one of the data structure in python\n",
        "- Data structure means to store,sort and search options\n",
        "- its one common data structure in python,the items of list separated by comma and enclosed by square brackets\n",
        "- list was IMMUTABLE(i.e.values can change)\n",
        "-ex:\n",
        "-list1 =[1,2,3,4,5]\n",
        "-list=[\"JNTUA\",\"DASD\",\"asds\"]\n"
      ]
    },
    {
      "cell_type": "code",
      "metadata": {
        "id": "9QMLW00CPAru",
        "colab_type": "code",
        "colab": {
          "base_uri": "https://localhost:8080/",
          "height": 119
        },
        "outputId": "2a221cb2-e48d-4f8a-a1ee-f479a092f352"
      },
      "source": [
        "li = [1,0,2,5,4]\n",
        "print(li)\n",
        "print(li[2])\n",
        "print(li[-3])\n",
        "print(li[2:])\n",
        "print(li[2:4])\n",
        "print(li[-3:-1])"
      ],
      "execution_count": 76,
      "outputs": [
        {
          "output_type": "stream",
          "text": [
            "[1, 0, 2, 5, 4]\n",
            "2\n",
            "2\n",
            "[2, 5, 4]\n",
            "[2, 5]\n",
            "[2, 5]\n"
          ],
          "name": "stdout"
        }
      ]
    },
    {
      "cell_type": "code",
      "metadata": {
        "id": "hxtuoZ0McgUW",
        "colab_type": "code",
        "colab": {
          "base_uri": "https://localhost:8080/",
          "height": 68
        },
        "outputId": "64be469d-3eda-48ea-c1ae-d1353a917e07"
      },
      "source": [
        "li = [\"JNTUA\",8,\"ANTPR\",5,4]\n",
        "print(li)\n",
        "li[1]=\"154\"\n",
        "print(li)\n",
        "# delete list item\n",
        "del li[3]\n",
        "print(li)"
      ],
      "execution_count": 77,
      "outputs": [
        {
          "output_type": "stream",
          "text": [
            "['JNTUA', 8, 'ANTPR', 5, 4]\n",
            "['JNTUA', '154', 'ANTPR', 5, 4]\n",
            "['JNTUA', '154', 'ANTPR', 4]\n"
          ],
          "name": "stdout"
        }
      ]
    },
    {
      "cell_type": "code",
      "metadata": {
        "id": "vBgjrCBhM4z4",
        "colab_type": "code",
        "colab": {
          "base_uri": "https://localhost:8080/",
          "height": 85
        },
        "outputId": "d3c3dfbe-7e27-45fa-9b31-0ac81982d635"
      },
      "source": [
        "# Basic List Operations\n",
        "li = [1,2,3,4,5]\n",
        "print(len(li))\n",
        "print(li*2)\n",
        "print(4 in li)\n",
        "print(6 in li)"
      ],
      "execution_count": 83,
      "outputs": [
        {
          "output_type": "stream",
          "text": [
            "5\n",
            "[1, 2, 3, 4, 5, 1, 2, 3, 4, 5]\n",
            "True\n",
            "False\n"
          ],
          "name": "stdout"
        }
      ]
    },
    {
      "cell_type": "markdown",
      "metadata": {
        "id": "jAevCbTqedN6",
        "colab_type": "text"
      },
      "source": [
        "# list functions\n",
        "- max\n",
        "- min\n",
        "- sum\n",
        "- append\n",
        "- insert\n",
        "- count\n",
        "- index\n",
        "- sort\n",
        "- pop"
      ]
    },
    {
      "cell_type": "code",
      "metadata": {
        "id": "MZsSZfjjerxK",
        "colab_type": "code",
        "colab": {
          "base_uri": "https://localhost:8080/",
          "height": 197
        },
        "outputId": "caa473d2-4a04-4b5a-e722-9428c2bef43a"
      },
      "source": [
        "i = [1,2,3,4,5]\n",
        "#print(max(li))\n",
        "#print(min(li))\n",
        "print(sum(i))"
      ],
      "execution_count": 93,
      "outputs": [
        {
          "output_type": "error",
          "ename": "TypeError",
          "evalue": "ignored",
          "traceback": [
            "\u001b[0;31m---------------------------------------------------------------------------\u001b[0m",
            "\u001b[0;31mTypeError\u001b[0m                                 Traceback (most recent call last)",
            "\u001b[0;32m<ipython-input-93-5245f8e51c1b>\u001b[0m in \u001b[0;36m<module>\u001b[0;34m()\u001b[0m\n\u001b[1;32m      2\u001b[0m \u001b[0;31m#print(max(li))\u001b[0m\u001b[0;34m\u001b[0m\u001b[0;34m\u001b[0m\u001b[0;34m\u001b[0m\u001b[0m\n\u001b[1;32m      3\u001b[0m \u001b[0;31m#print(min(li))\u001b[0m\u001b[0;34m\u001b[0m\u001b[0;34m\u001b[0m\u001b[0;34m\u001b[0m\u001b[0m\n\u001b[0;32m----> 4\u001b[0;31m \u001b[0mprint\u001b[0m\u001b[0;34m(\u001b[0m\u001b[0msum\u001b[0m\u001b[0;34m(\u001b[0m\u001b[0mi\u001b[0m\u001b[0;34m)\u001b[0m\u001b[0;34m)\u001b[0m\u001b[0;34m\u001b[0m\u001b[0;34m\u001b[0m\u001b[0m\n\u001b[0m",
            "\u001b[0;31mTypeError\u001b[0m: 'int' object is not callable"
          ]
        }
      ]
    }
  ]
}